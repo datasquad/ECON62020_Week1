{
 "cells": [
  {
   "cell_type": "markdown",
   "metadata": {},
   "source": [
    "## Introduction\n",
    "\n",
    "Here you will learn to\n",
    "\n",
    "* understand the effects of over-fitting a model\n",
    "* learn how to code a simple Monte-Carlo experiment\n",
    "* how to track results in a simulation\n",
    "\n",
    "## Preparing your workfile\n",
    "\n",
    "We add the basic packages needed for this work: "
   ]
  },
  {
   "cell_type": "code",
   "execution_count": null,
   "metadata": {},
   "outputs": [],
   "source": [
    "import numpy as np\n",
    "import pandas as pd\n",
    "from lets_plot import *\n",
    "import statsmodels.api as sm \n",
    "\n",
    "# before using lets_plot you need to call the setup\n",
    "LetsPlot.setup_html(no_js=True)\n"
   ]
  }
 ],
 "metadata": {
  "kernelspec": {
   "display_name": "base",
   "language": "python",
   "name": "python3"
  },
  "language_info": {
   "name": "python",
   "version": "3.9.13"
  }
 },
 "nbformat": 4,
 "nbformat_minor": 2
}
